{
 "cells": [
  {
   "cell_type": "code",
   "execution_count": 38,
   "id": "asian-visiting",
   "metadata": {},
   "outputs": [],
   "source": [
    "# import libraries\n",
    "import numpy as np\n",
    "import pandas as pd"
   ]
  },
  {
   "cell_type": "markdown",
   "id": "placed-killing",
   "metadata": {},
   "source": [
    "## Question 1."
   ]
  },
  {
   "cell_type": "markdown",
   "id": "adequate-association",
   "metadata": {},
   "source": [
    "### Q. 1.1.\n",
    "\n",
    "Read the csv file `EU_renewable_energy_00-09.csv` into a dataframe `df1`, print the shape and show the head.\n",
    "* This file comprises data about renewable energy in the european union countries from 2000 to 2009.\n",
    "* This is a yearly total of energy measured by KTOE: Kilotonne of Oil Equivalent.\n",
    "\n",
    "This dataset was downloaded from the website of the Organisation for Economic Co-operation and Development (OECD): https://data.oecd.org/energy.htm"
   ]
  },
  {
   "cell_type": "code",
   "execution_count": 39,
   "id": "unlimited-angle",
   "metadata": {},
   "outputs": [
    {
     "name": "stdout",
     "output_type": "stream",
     "text": [
      "(270, 3)\n"
     ]
    },
    {
     "data": {
      "text/html": [
       "<div>\n",
       "<style scoped>\n",
       "    .dataframe tbody tr th:only-of-type {\n",
       "        vertical-align: middle;\n",
       "    }\n",
       "\n",
       "    .dataframe tbody tr th {\n",
       "        vertical-align: top;\n",
       "    }\n",
       "\n",
       "    .dataframe thead th {\n",
       "        text-align: right;\n",
       "    }\n",
       "</style>\n",
       "<table border=\"1\" class=\"dataframe\">\n",
       "  <thead>\n",
       "    <tr style=\"text-align: right;\">\n",
       "      <th></th>\n",
       "      <th>LOCATION</th>\n",
       "      <th>TIME</th>\n",
       "      <th>Value</th>\n",
       "    </tr>\n",
       "  </thead>\n",
       "  <tbody>\n",
       "    <tr>\n",
       "      <th>0</th>\n",
       "      <td>AUT</td>\n",
       "      <td>2000</td>\n",
       "      <td>6573.7169</td>\n",
       "    </tr>\n",
       "    <tr>\n",
       "      <th>1</th>\n",
       "      <td>AUT</td>\n",
       "      <td>2001</td>\n",
       "      <td>6659.1852</td>\n",
       "    </tr>\n",
       "    <tr>\n",
       "      <th>2</th>\n",
       "      <td>AUT</td>\n",
       "      <td>2002</td>\n",
       "      <td>6482.1603</td>\n",
       "    </tr>\n",
       "    <tr>\n",
       "      <th>3</th>\n",
       "      <td>AUT</td>\n",
       "      <td>2003</td>\n",
       "      <td>6017.1032</td>\n",
       "    </tr>\n",
       "    <tr>\n",
       "      <th>4</th>\n",
       "      <td>AUT</td>\n",
       "      <td>2004</td>\n",
       "      <td>6418.0545</td>\n",
       "    </tr>\n",
       "  </tbody>\n",
       "</table>\n",
       "</div>"
      ],
      "text/plain": [
       "  LOCATION  TIME      Value\n",
       "0      AUT  2000  6573.7169\n",
       "1      AUT  2001  6659.1852\n",
       "2      AUT  2002  6482.1603\n",
       "3      AUT  2003  6017.1032\n",
       "4      AUT  2004  6418.0545"
      ]
     },
     "execution_count": 39,
     "metadata": {},
     "output_type": "execute_result"
    }
   ],
   "source": [
    "df1=pd.read_csv('EU_renewable_energy_00-09.csv')\n",
    "print(df1.shape)\n",
    "df1.head()"
   ]
  },
  {
   "cell_type": "markdown",
   "id": "outdoor-costume",
   "metadata": {},
   "source": [
    "What are the different countries (`LOCATION`)?"
   ]
  },
  {
   "cell_type": "code",
   "execution_count": 40,
   "id": "demonstrated-bidding",
   "metadata": {},
   "outputs": [
    {
     "data": {
      "text/plain": [
       "array(['AUT', 'BEL', 'CZE', 'DNK', 'FIN', 'FRA', 'DEU', 'GRC', 'HUN',\n",
       "       'IRL', 'ITA', 'LUX', 'NLD', 'POL', 'PRT', 'SVK', 'ESP', 'SWE',\n",
       "       'BGR', 'HRV', 'CYP', 'EST', 'LVA', 'LTU', 'MLT', 'ROU', 'SVN'],\n",
       "      dtype=object)"
      ]
     },
     "execution_count": 40,
     "metadata": {},
     "output_type": "execute_result"
    }
   ],
   "source": [
    "df1.LOCATION.unique()"
   ]
  },
  {
   "cell_type": "markdown",
   "id": "engaging-complaint",
   "metadata": {},
   "source": [
    "What are the different years (`TIME`)?"
   ]
  },
  {
   "cell_type": "code",
   "execution_count": 41,
   "id": "retained-supervision",
   "metadata": {},
   "outputs": [
    {
     "data": {
      "text/plain": [
       "array([2000, 2001, 2002, 2003, 2004, 2005, 2006, 2007, 2008, 2009],\n",
       "      dtype=int64)"
      ]
     },
     "execution_count": 41,
     "metadata": {},
     "output_type": "execute_result"
    }
   ],
   "source": [
    "df1.TIME.unique()"
   ]
  },
  {
   "cell_type": "markdown",
   "id": "protective-missouri",
   "metadata": {},
   "source": [
    "### Q. 1.2.\n",
    "\n",
    "Read the csv file `EU_renewable_energy_10-19.csv` into a dataframe `df2`, print the shape and show the head.\n",
    "* This file is similar to the previous one, but for the years from 2010 to 2019.\n",
    "* (i.e., yearly total of renewable energy (measured by KTOE) in the european union countries)\n",
    "\n",
    "This dataset was also downloaded from OECD website: https://data.oecd.org/energy.htm"
   ]
  },
  {
   "cell_type": "code",
   "execution_count": 42,
   "id": "shared-prerequisite",
   "metadata": {},
   "outputs": [
    {
     "name": "stdout",
     "output_type": "stream",
     "text": [
      "(270, 3)\n"
     ]
    },
    {
     "data": {
      "text/html": [
       "<div>\n",
       "<style scoped>\n",
       "    .dataframe tbody tr th:only-of-type {\n",
       "        vertical-align: middle;\n",
       "    }\n",
       "\n",
       "    .dataframe tbody tr th {\n",
       "        vertical-align: top;\n",
       "    }\n",
       "\n",
       "    .dataframe thead th {\n",
       "        text-align: right;\n",
       "    }\n",
       "</style>\n",
       "<table border=\"1\" class=\"dataframe\">\n",
       "  <thead>\n",
       "    <tr style=\"text-align: right;\">\n",
       "      <th></th>\n",
       "      <th>LOCATION</th>\n",
       "      <th>TIME</th>\n",
       "      <th>Value</th>\n",
       "    </tr>\n",
       "  </thead>\n",
       "  <tbody>\n",
       "    <tr>\n",
       "      <th>0</th>\n",
       "      <td>AUT</td>\n",
       "      <td>2010</td>\n",
       "      <td>9322.7590</td>\n",
       "    </tr>\n",
       "    <tr>\n",
       "      <th>1</th>\n",
       "      <td>AUT</td>\n",
       "      <td>2011</td>\n",
       "      <td>8884.3076</td>\n",
       "    </tr>\n",
       "    <tr>\n",
       "      <th>2</th>\n",
       "      <td>AUT</td>\n",
       "      <td>2012</td>\n",
       "      <td>10063.2536</td>\n",
       "    </tr>\n",
       "    <tr>\n",
       "      <th>3</th>\n",
       "      <td>AUT</td>\n",
       "      <td>2013</td>\n",
       "      <td>10061.2864</td>\n",
       "    </tr>\n",
       "    <tr>\n",
       "      <th>4</th>\n",
       "      <td>AUT</td>\n",
       "      <td>2014</td>\n",
       "      <td>9857.3185</td>\n",
       "    </tr>\n",
       "  </tbody>\n",
       "</table>\n",
       "</div>"
      ],
      "text/plain": [
       "  LOCATION  TIME       Value\n",
       "0      AUT  2010   9322.7590\n",
       "1      AUT  2011   8884.3076\n",
       "2      AUT  2012  10063.2536\n",
       "3      AUT  2013  10061.2864\n",
       "4      AUT  2014   9857.3185"
      ]
     },
     "execution_count": 42,
     "metadata": {},
     "output_type": "execute_result"
    }
   ],
   "source": [
    "df2=pd.read_csv('EU_renewable_energy_10-19.csv')\n",
    "print(df2.shape)\n",
    "df2.head()"
   ]
  },
  {
   "cell_type": "markdown",
   "id": "irish-columbus",
   "metadata": {},
   "source": [
    "Concat the two dataframes vertically, call the result `df_re`.\n",
    "* This dataframe now comprises the total renewable energy (in KTOE) for the years 2000 to 2019.\n",
    "\n",
    "print the shape, and show the head"
   ]
  },
  {
   "cell_type": "code",
   "execution_count": 43,
   "id": "diverse-combine",
   "metadata": {},
   "outputs": [
    {
     "name": "stdout",
     "output_type": "stream",
     "text": [
      "(540, 3)\n"
     ]
    },
    {
     "data": {
      "text/html": [
       "<div>\n",
       "<style scoped>\n",
       "    .dataframe tbody tr th:only-of-type {\n",
       "        vertical-align: middle;\n",
       "    }\n",
       "\n",
       "    .dataframe tbody tr th {\n",
       "        vertical-align: top;\n",
       "    }\n",
       "\n",
       "    .dataframe thead th {\n",
       "        text-align: right;\n",
       "    }\n",
       "</style>\n",
       "<table border=\"1\" class=\"dataframe\">\n",
       "  <thead>\n",
       "    <tr style=\"text-align: right;\">\n",
       "      <th></th>\n",
       "      <th>LOCATION</th>\n",
       "      <th>TIME</th>\n",
       "      <th>Value</th>\n",
       "    </tr>\n",
       "  </thead>\n",
       "  <tbody>\n",
       "    <tr>\n",
       "      <th>0</th>\n",
       "      <td>AUT</td>\n",
       "      <td>2000</td>\n",
       "      <td>6573.7169</td>\n",
       "    </tr>\n",
       "    <tr>\n",
       "      <th>1</th>\n",
       "      <td>AUT</td>\n",
       "      <td>2001</td>\n",
       "      <td>6659.1852</td>\n",
       "    </tr>\n",
       "    <tr>\n",
       "      <th>2</th>\n",
       "      <td>AUT</td>\n",
       "      <td>2002</td>\n",
       "      <td>6482.1603</td>\n",
       "    </tr>\n",
       "    <tr>\n",
       "      <th>3</th>\n",
       "      <td>AUT</td>\n",
       "      <td>2003</td>\n",
       "      <td>6017.1032</td>\n",
       "    </tr>\n",
       "    <tr>\n",
       "      <th>4</th>\n",
       "      <td>AUT</td>\n",
       "      <td>2004</td>\n",
       "      <td>6418.0545</td>\n",
       "    </tr>\n",
       "  </tbody>\n",
       "</table>\n",
       "</div>"
      ],
      "text/plain": [
       "  LOCATION  TIME      Value\n",
       "0      AUT  2000  6573.7169\n",
       "1      AUT  2001  6659.1852\n",
       "2      AUT  2002  6482.1603\n",
       "3      AUT  2003  6017.1032\n",
       "4      AUT  2004  6418.0545"
      ]
     },
     "execution_count": 43,
     "metadata": {},
     "output_type": "execute_result"
    }
   ],
   "source": [
    "df_re=pd.concat([df1,df2],axis=0)\n",
    "print(df_re.shape)\n",
    "df_re.head()"
   ]
  },
  {
   "cell_type": "markdown",
   "id": "pursuant-client",
   "metadata": {},
   "source": [
    "Find the average value per country"
   ]
  },
  {
   "cell_type": "code",
   "execution_count": 44,
   "id": "vocational-restoration",
   "metadata": {},
   "outputs": [
    {
     "data": {
      "text/html": [
       "<div>\n",
       "<style scoped>\n",
       "    .dataframe tbody tr th:only-of-type {\n",
       "        vertical-align: middle;\n",
       "    }\n",
       "\n",
       "    .dataframe tbody tr th {\n",
       "        vertical-align: top;\n",
       "    }\n",
       "\n",
       "    .dataframe thead th {\n",
       "        text-align: right;\n",
       "    }\n",
       "</style>\n",
       "<table border=\"1\" class=\"dataframe\">\n",
       "  <thead>\n",
       "    <tr style=\"text-align: right;\">\n",
       "      <th></th>\n",
       "      <th>Value</th>\n",
       "    </tr>\n",
       "    <tr>\n",
       "      <th>LOCATION</th>\n",
       "      <th></th>\n",
       "    </tr>\n",
       "  </thead>\n",
       "  <tbody>\n",
       "    <tr>\n",
       "      <th>AUT</th>\n",
       "      <td>8516.115140</td>\n",
       "    </tr>\n",
       "    <tr>\n",
       "      <th>BEL</th>\n",
       "      <td>2423.647940</td>\n",
       "    </tr>\n",
       "    <tr>\n",
       "      <th>BGR</th>\n",
       "      <td>1403.117910</td>\n",
       "    </tr>\n",
       "    <tr>\n",
       "      <th>CYP</th>\n",
       "      <td>107.337710</td>\n",
       "    </tr>\n",
       "    <tr>\n",
       "      <th>CZE</th>\n",
       "      <td>3078.226505</td>\n",
       "    </tr>\n",
       "    <tr>\n",
       "      <th>DEU</th>\n",
       "      <td>27899.523425</td>\n",
       "    </tr>\n",
       "    <tr>\n",
       "      <th>DNK</th>\n",
       "      <td>3729.396460</td>\n",
       "    </tr>\n",
       "    <tr>\n",
       "      <th>ESP</th>\n",
       "      <td>12933.860685</td>\n",
       "    </tr>\n",
       "    <tr>\n",
       "      <th>EST</th>\n",
       "      <td>773.048100</td>\n",
       "    </tr>\n",
       "    <tr>\n",
       "      <th>FIN</th>\n",
       "      <td>9313.725315</td>\n",
       "    </tr>\n",
       "    <tr>\n",
       "      <th>FRA</th>\n",
       "      <td>19572.500740</td>\n",
       "    </tr>\n",
       "    <tr>\n",
       "      <th>GRC</th>\n",
       "      <td>2120.184795</td>\n",
       "    </tr>\n",
       "    <tr>\n",
       "      <th>HRV</th>\n",
       "      <td>1837.213155</td>\n",
       "    </tr>\n",
       "    <tr>\n",
       "      <th>HUN</th>\n",
       "      <td>2168.202535</td>\n",
       "    </tr>\n",
       "    <tr>\n",
       "      <th>IRL</th>\n",
       "      <td>708.344965</td>\n",
       "    </tr>\n",
       "    <tr>\n",
       "      <th>ITA</th>\n",
       "      <td>19802.308235</td>\n",
       "    </tr>\n",
       "    <tr>\n",
       "      <th>LTU</th>\n",
       "      <td>1098.896450</td>\n",
       "    </tr>\n",
       "    <tr>\n",
       "      <th>LUX</th>\n",
       "      <td>137.636825</td>\n",
       "    </tr>\n",
       "    <tr>\n",
       "      <th>LVA</th>\n",
       "      <td>1516.587445</td>\n",
       "    </tr>\n",
       "    <tr>\n",
       "      <th>MLT</th>\n",
       "      <td>10.344355</td>\n",
       "    </tr>\n",
       "    <tr>\n",
       "      <th>NLD</th>\n",
       "      <td>2938.918150</td>\n",
       "    </tr>\n",
       "    <tr>\n",
       "      <th>POL</th>\n",
       "      <td>6631.396010</td>\n",
       "    </tr>\n",
       "    <tr>\n",
       "      <th>PRT</th>\n",
       "      <td>4616.960110</td>\n",
       "    </tr>\n",
       "    <tr>\n",
       "      <th>ROU</th>\n",
       "      <td>5142.339880</td>\n",
       "    </tr>\n",
       "    <tr>\n",
       "      <th>SVK</th>\n",
       "      <td>1139.715310</td>\n",
       "    </tr>\n",
       "    <tr>\n",
       "      <th>SVN</th>\n",
       "      <td>956.748760</td>\n",
       "    </tr>\n",
       "    <tr>\n",
       "      <th>SWE</th>\n",
       "      <td>16224.127095</td>\n",
       "    </tr>\n",
       "  </tbody>\n",
       "</table>\n",
       "</div>"
      ],
      "text/plain": [
       "                 Value\n",
       "LOCATION              \n",
       "AUT        8516.115140\n",
       "BEL        2423.647940\n",
       "BGR        1403.117910\n",
       "CYP         107.337710\n",
       "CZE        3078.226505\n",
       "DEU       27899.523425\n",
       "DNK        3729.396460\n",
       "ESP       12933.860685\n",
       "EST         773.048100\n",
       "FIN        9313.725315\n",
       "FRA       19572.500740\n",
       "GRC        2120.184795\n",
       "HRV        1837.213155\n",
       "HUN        2168.202535\n",
       "IRL         708.344965\n",
       "ITA       19802.308235\n",
       "LTU        1098.896450\n",
       "LUX         137.636825\n",
       "LVA        1516.587445\n",
       "MLT          10.344355\n",
       "NLD        2938.918150\n",
       "POL        6631.396010\n",
       "PRT        4616.960110\n",
       "ROU        5142.339880\n",
       "SVK        1139.715310\n",
       "SVN         956.748760\n",
       "SWE       16224.127095"
      ]
     },
     "execution_count": 44,
     "metadata": {},
     "output_type": "execute_result"
    }
   ],
   "source": [
    "df_re.groupby('LOCATION').agg({'Value':'mean'})"
   ]
  },
  {
   "cell_type": "markdown",
   "id": "introductory-sunrise",
   "metadata": {},
   "source": [
    "Find the average value per year"
   ]
  },
  {
   "cell_type": "code",
   "execution_count": 45,
   "id": "accredited-timer",
   "metadata": {},
   "outputs": [
    {
     "data": {
      "text/html": [
       "<div>\n",
       "<style scoped>\n",
       "    .dataframe tbody tr th:only-of-type {\n",
       "        vertical-align: middle;\n",
       "    }\n",
       "\n",
       "    .dataframe tbody tr th {\n",
       "        vertical-align: top;\n",
       "    }\n",
       "\n",
       "    .dataframe thead th {\n",
       "        text-align: right;\n",
       "    }\n",
       "</style>\n",
       "<table border=\"1\" class=\"dataframe\">\n",
       "  <thead>\n",
       "    <tr style=\"text-align: right;\">\n",
       "      <th></th>\n",
       "      <th>Value</th>\n",
       "    </tr>\n",
       "    <tr>\n",
       "      <th>TIME</th>\n",
       "      <th></th>\n",
       "    </tr>\n",
       "  </thead>\n",
       "  <tbody>\n",
       "    <tr>\n",
       "      <th>2000</th>\n",
       "      <td>3566.764011</td>\n",
       "    </tr>\n",
       "    <tr>\n",
       "      <th>2001</th>\n",
       "      <td>3684.655548</td>\n",
       "    </tr>\n",
       "    <tr>\n",
       "      <th>2002</th>\n",
       "      <td>3623.224144</td>\n",
       "    </tr>\n",
       "    <tr>\n",
       "      <th>2003</th>\n",
       "      <td>3929.684593</td>\n",
       "    </tr>\n",
       "    <tr>\n",
       "      <th>2004</th>\n",
       "      <td>4152.300574</td>\n",
       "    </tr>\n",
       "    <tr>\n",
       "      <th>2005</th>\n",
       "      <td>4423.552163</td>\n",
       "    </tr>\n",
       "    <tr>\n",
       "      <th>2006</th>\n",
       "      <td>4713.776404</td>\n",
       "    </tr>\n",
       "    <tr>\n",
       "      <th>2007</th>\n",
       "      <td>5073.366870</td>\n",
       "    </tr>\n",
       "    <tr>\n",
       "      <th>2008</th>\n",
       "      <td>5458.219544</td>\n",
       "    </tr>\n",
       "    <tr>\n",
       "      <th>2009</th>\n",
       "      <td>5714.455781</td>\n",
       "    </tr>\n",
       "    <tr>\n",
       "      <th>2010</th>\n",
       "      <td>6343.007644</td>\n",
       "    </tr>\n",
       "    <tr>\n",
       "      <th>2011</th>\n",
       "      <td>6189.101696</td>\n",
       "    </tr>\n",
       "    <tr>\n",
       "      <th>2012</th>\n",
       "      <td>6831.465007</td>\n",
       "    </tr>\n",
       "    <tr>\n",
       "      <th>2013</th>\n",
       "      <td>7156.756444</td>\n",
       "    </tr>\n",
       "    <tr>\n",
       "      <th>2014</th>\n",
       "      <td>7140.600341</td>\n",
       "    </tr>\n",
       "    <tr>\n",
       "      <th>2015</th>\n",
       "      <td>7331.840822</td>\n",
       "    </tr>\n",
       "    <tr>\n",
       "      <th>2016</th>\n",
       "      <td>7442.601344</td>\n",
       "    </tr>\n",
       "    <tr>\n",
       "      <th>2017</th>\n",
       "      <td>7590.827485</td>\n",
       "    </tr>\n",
       "    <tr>\n",
       "      <th>2018</th>\n",
       "      <td>7800.994985</td>\n",
       "    </tr>\n",
       "    <tr>\n",
       "      <th>2019</th>\n",
       "      <td>7981.266822</td>\n",
       "    </tr>\n",
       "  </tbody>\n",
       "</table>\n",
       "</div>"
      ],
      "text/plain": [
       "            Value\n",
       "TIME             \n",
       "2000  3566.764011\n",
       "2001  3684.655548\n",
       "2002  3623.224144\n",
       "2003  3929.684593\n",
       "2004  4152.300574\n",
       "2005  4423.552163\n",
       "2006  4713.776404\n",
       "2007  5073.366870\n",
       "2008  5458.219544\n",
       "2009  5714.455781\n",
       "2010  6343.007644\n",
       "2011  6189.101696\n",
       "2012  6831.465007\n",
       "2013  7156.756444\n",
       "2014  7140.600341\n",
       "2015  7331.840822\n",
       "2016  7442.601344\n",
       "2017  7590.827485\n",
       "2018  7800.994985\n",
       "2019  7981.266822"
      ]
     },
     "execution_count": 45,
     "metadata": {},
     "output_type": "execute_result"
    }
   ],
   "source": [
    "df_re.groupby('TIME').agg({'Value':'mean'})"
   ]
  },
  {
   "cell_type": "markdown",
   "id": "atomic-photography",
   "metadata": {},
   "source": [
    "## Question 2."
   ]
  },
  {
   "cell_type": "markdown",
   "id": "numerical-senior",
   "metadata": {},
   "source": [
    "### Q. 2.1.\n",
    "\n",
    "Read the csv file `EU_electricity_total.csv` into a dataframe `df_etot`, print the shape and show the head.\n",
    "* This file comprises data about electricity generation in the european union countries from 2000 to 2020.\n",
    "* This is a yearly total of generated electricity measured by GWH: Gigawatt-hours.\n",
    "\n",
    "This dataset was downloaded from the website of the Organisation for Economic Co-operation and Development (OECD): https://data.oecd.org/energy.htm"
   ]
  },
  {
   "cell_type": "code",
   "execution_count": 46,
   "id": "increasing-connecticut",
   "metadata": {},
   "outputs": [
    {
     "name": "stdout",
     "output_type": "stream",
     "text": [
      "(567, 8)\n"
     ]
    },
    {
     "data": {
      "text/html": [
       "<div>\n",
       "<style scoped>\n",
       "    .dataframe tbody tr th:only-of-type {\n",
       "        vertical-align: middle;\n",
       "    }\n",
       "\n",
       "    .dataframe tbody tr th {\n",
       "        vertical-align: top;\n",
       "    }\n",
       "\n",
       "    .dataframe thead th {\n",
       "        text-align: right;\n",
       "    }\n",
       "</style>\n",
       "<table border=\"1\" class=\"dataframe\">\n",
       "  <thead>\n",
       "    <tr style=\"text-align: right;\">\n",
       "      <th></th>\n",
       "      <th>LOCATION</th>\n",
       "      <th>INDICATOR</th>\n",
       "      <th>SUBJECT</th>\n",
       "      <th>MEASURE</th>\n",
       "      <th>FREQUENCY</th>\n",
       "      <th>TIME</th>\n",
       "      <th>Value</th>\n",
       "      <th>Flag Codes</th>\n",
       "    </tr>\n",
       "  </thead>\n",
       "  <tbody>\n",
       "    <tr>\n",
       "      <th>0</th>\n",
       "      <td>AUT</td>\n",
       "      <td>ELECTRICITY</td>\n",
       "      <td>TOT</td>\n",
       "      <td>GWH</td>\n",
       "      <td>A</td>\n",
       "      <td>2000</td>\n",
       "      <td>59054.0</td>\n",
       "      <td>NaN</td>\n",
       "    </tr>\n",
       "    <tr>\n",
       "      <th>1</th>\n",
       "      <td>AUT</td>\n",
       "      <td>ELECTRICITY</td>\n",
       "      <td>TOT</td>\n",
       "      <td>GWH</td>\n",
       "      <td>A</td>\n",
       "      <td>2001</td>\n",
       "      <td>60111.0</td>\n",
       "      <td>NaN</td>\n",
       "    </tr>\n",
       "    <tr>\n",
       "      <th>2</th>\n",
       "      <td>AUT</td>\n",
       "      <td>ELECTRICITY</td>\n",
       "      <td>TOT</td>\n",
       "      <td>GWH</td>\n",
       "      <td>A</td>\n",
       "      <td>2002</td>\n",
       "      <td>59937.0</td>\n",
       "      <td>NaN</td>\n",
       "    </tr>\n",
       "    <tr>\n",
       "      <th>3</th>\n",
       "      <td>AUT</td>\n",
       "      <td>ELECTRICITY</td>\n",
       "      <td>TOT</td>\n",
       "      <td>GWH</td>\n",
       "      <td>A</td>\n",
       "      <td>2003</td>\n",
       "      <td>57413.0</td>\n",
       "      <td>NaN</td>\n",
       "    </tr>\n",
       "    <tr>\n",
       "      <th>4</th>\n",
       "      <td>AUT</td>\n",
       "      <td>ELECTRICITY</td>\n",
       "      <td>TOT</td>\n",
       "      <td>GWH</td>\n",
       "      <td>A</td>\n",
       "      <td>2004</td>\n",
       "      <td>61387.0</td>\n",
       "      <td>NaN</td>\n",
       "    </tr>\n",
       "  </tbody>\n",
       "</table>\n",
       "</div>"
      ],
      "text/plain": [
       "  LOCATION    INDICATOR SUBJECT MEASURE FREQUENCY  TIME    Value Flag Codes\n",
       "0      AUT  ELECTRICITY     TOT     GWH         A  2000  59054.0        NaN\n",
       "1      AUT  ELECTRICITY     TOT     GWH         A  2001  60111.0        NaN\n",
       "2      AUT  ELECTRICITY     TOT     GWH         A  2002  59937.0        NaN\n",
       "3      AUT  ELECTRICITY     TOT     GWH         A  2003  57413.0        NaN\n",
       "4      AUT  ELECTRICITY     TOT     GWH         A  2004  61387.0        NaN"
      ]
     },
     "execution_count": 46,
     "metadata": {},
     "output_type": "execute_result"
    }
   ],
   "source": [
    "df_etot=pd.read_csv('EU_electricity_total.csv')\n",
    "print(df_etot.shape)\n",
    "df_etot.head()"
   ]
  },
  {
   "cell_type": "markdown",
   "id": "handed-planning",
   "metadata": {},
   "source": [
    "**Q** For the different columns, check the distinct values. \n",
    "* You notice that some columns are not usefull (having the same value!). \n",
    "    * Determine such columns and drop them. \n",
    "    * The resulting DataFrame should have 3 informative columns only. "
   ]
  },
  {
   "cell_type": "code",
   "execution_count": 47,
   "id": "622463b9",
   "metadata": {},
   "outputs": [
    {
     "name": "stdout",
     "output_type": "stream",
     "text": [
      "['AUT' 'BEL' 'CZE' 'DNK' 'FIN' 'FRA' 'DEU' 'GRC' 'HUN' 'IRL' 'ITA' 'LUX'\n",
      " 'NLD' 'POL' 'PRT' 'SVK' 'ESP' 'SWE' 'EST' 'SVN' 'LVA' 'LTU' 'BGR' 'HRV'\n",
      " 'CYP' 'MLT' 'ROU']\n",
      "['ELECTRICITY']\n",
      "['TOT']\n",
      "['GWH']\n",
      "['A']\n",
      "[2000 2001 2002 2003 2004 2005 2006 2007 2008 2009 2010 2011 2012 2013\n",
      " 2014 2015 2016 2017 2018 2019 2020]\n",
      "[ 59054.     60111.     59937.     57413.     61387.     63671.\n",
      "  61228.     61810.     63589.     66032.     67709.     62592.\n",
      "  69525.     65260.     62248.     61928.     64961.     68093.595\n",
      "  65383.711  71101.127        nan  80266.     76216.     78147.\n",
      "  80858.     81730.     83396.     81977.     85098.     81384.\n",
      "  87523.     91975.     86752.     79825.     80206.     69818.\n",
      "  67379.     82457.     83116.9    71984.3    89890.6    68014.\n",
      "  68780.     70393.     76659.     77919.     76192.     77884.\n",
      "  81412.     77085.     75990.     78302.     79908.     80309.\n",
      "  79777.     79116.     76916.     76398.     79885.766  80861.141\n",
      "  80116.433  34448.     36165.     37336.     43754.     38402.\n",
      "  34413.     43185.     37356.     34852.     34462.     36872.\n",
      "  33549.     29200.     33138.     30815.     27921.     29081.\n",
      "  29638.3    29314.3    28692.606  67288.     71237.     71632.\n",
      "  80397.     82191.     67843.     78643.     77835.     74494.\n",
      "  69222.     77220.     70413.     67707.     68353.     65458.\n",
      "  66155.     66203.     65043.     67533.     66045.    516109.\n",
      " 525951.    534837.    542213.    549322.    550035.    549179.\n",
      " 544362.    548444.    512285.    544299.    547534.    547926.\n",
      " 558139.    548862.    555298.    540420.    537849.214 557797.811\n",
      " 546974.825 538489.    548166.    549288.    569713.    578577.\n",
      " 582874.    598995.    600683.    601150.    558760.    594414.\n",
      " 576247.    591431.    600926.    590874.    610292.    614332.\n",
      " 619053.    608912.    578863.     49863.     49730.     50608.\n",
      "  54337.     54889.     55740.     56547.     59088.     59407.\n",
      "  56073.     53389.     53913.     53654.     52560.     46702.\n",
      "  47806.     50227.     50589.215  50781.194  45557.     32259.\n",
      "  33704.     33475.     31378.     31262.     33219.     33345.\n",
      "  37220.     37383.     33344.     34613.     33533.     32351.\n",
      "  28031.     27141.     28150.     29548.     30699.     29866.\n",
      "  32013.     22685.     23679.     23926.     24065.     24413.\n",
      "  24791.     26122.     27435.     28927.     27127.     27442.\n",
      "  26365.     26479.     25116.     25313.     27623.     29692.\n",
      "  30092.493  30352.292  30255.315 263305.    265981.    270799.\n",
      " 280203.    290047.    290635.    301259.    301299.    307065.\n",
      " 281106.    290746.    291442.    287803.    278833.    269148.\n",
      " 272428.    279703.    285265.649 279844.619 283950.056   1132.\n",
      "   1586.      3673.      3598.      4103.      4105.      4302.\n",
      "   3960.      3517.      3837.      4561.      3694.      3787.\n",
      "   2860.      2938.      2738.      2168.      2204.811   2171.402\n",
      "   1877.143  85998.     89812.     92041.     92840.     97043.\n",
      "  95598.     94489.    100751.    103187.    108767.    114825.\n",
      " 109145.     99174.     97450.     98715.    105749.    110989.\n",
      " 113425.137 110692.105 117571.759 132214.    132666.    131374.\n",
      " 138367.    140789.    143615.    147685.    145393.    141498.\n",
      " 137908.    143457.    148913.    147649.    150079.    145214.\n",
      " 150695.    152003.    154869.344 155259.671 151362.969  42215.\n",
      "  44844.     44390.     45375.     43482.     44984.     47493.\n",
      "  45908.     44584.     48718.     52783.     51128.     45254.\n",
      "  50412.     51527.     50940.     58862.     57668.978  58197.215\n",
      "  52185.2    27744.     29613.     29980.     28715.     28153.\n",
      "  29291.     28906.     25766.     26645.     24102.     25431.\n",
      "  26090.     26137.     27172.     25007.     24758.     24997.\n",
      "  25692.     24863.     26366.    214437.    225952.    232728.\n",
      " 250187.    268709.    282139.    287713.    293230.    301545.\n",
      " 283447.    290951.    283278.    286574.    275399.    268380.\n",
      " 269751.    264344.    264918.    263827.    263796.    141594.\n",
      " 157637.    143235.    132537.    148541.    154611.    140371.\n",
      " 145129.    146412.    133349.    145264.    146965.    162829.\n",
      " 149539.    149957.    159045.    152531.    160526.    159677.\n",
      " 165645.      7591.      7590.      7634.      9101.      9232.\n",
      "   9114.      8729.     10954.      9498.      7884.     11732.\n",
      "  11667.     10527.     11823.     11013.      9062.     10434.\n",
      "  11248.492  10932.802   6600.1    12795.     13591.     13693.\n",
      "  12895.     14308.     14149.     14117.     14044.     15357.\n",
      "  15375.     15410.     15001.     14705.     15117.     16486.\n",
      "  14187.     15546.     15396.876  15441.97   15224.354   3690.\n",
      "   3527.      3470.      4192.      4417.      4453.      4404.\n",
      "   4906.      5191.      6069.      5564.      5719.      5800.\n",
      "   4732.      5093.      5927.      7024.859   6203.231   5962.656\n",
      "  10039.     13218.     16078.     17878.     17706.     13584.\n",
      "  11393.     12878.     12781.     14147.      5347.      4445.\n",
      "   4689.      4451.      4144.      4676.      4051.      3996.1\n",
      "   3314.3     3764.6    36884.     39617.     38598.     38474.\n",
      "  37544.     40281.     41601.     39067.     40695.     38743.\n",
      "  42218.     45844.     42859.     39818.     43231.     44727.\n",
      "  41221.     41351.303  42714.415  40346.135  10879.     12373.\n",
      "  12241.     12702.     13496.     12698.     12570.     12167.\n",
      "  12375.     13033.     14432.     10951.     10396.     13660.\n",
      "  13159.     10983.     12284.     11522.9    13181.6    12250.1\n",
      "   3205.      3364.      3574.      3830.      3976.      4131.\n",
      "   4397.      4606.      4806.      4949.      5101.      4699.\n",
      "   4543.      4119.      4145.      4314.      4668.      4778.28\n",
      "   4827.281   4913.788   1802.      1825.      1927.      2100.\n",
      "   2081.      2114.      2129.      2165.      2185.      2046.\n",
      "   1993.      2053.      2172.      2137.      1241.       807.\n",
      "   1602.516   1911.107   2017.42   48625.     50423.     51056.\n",
      "  51317.     52693.     55504.     58350.     56165.     60100.\n",
      "  52759.     55923.     56490.     53694.     54134.     60699.\n",
      "  61277.     60256.     59355.43   60175.52   55177.212]\n",
      "[nan 'L']\n"
     ]
    }
   ],
   "source": [
    "for col in df_etot:\n",
    "  print(df_etot[col].unique())"
   ]
  },
  {
   "cell_type": "code",
   "execution_count": 48,
   "id": "61c1f394",
   "metadata": {},
   "outputs": [
    {
     "name": "stdout",
     "output_type": "stream",
     "text": [
      "  LOCATION  TIME    Value\n",
      "0      AUT  2000  59054.0\n",
      "1      AUT  2001  60111.0\n",
      "2      AUT  2002  59937.0\n",
      "3      AUT  2003  57413.0\n",
      "4      AUT  2004  61387.0\n"
     ]
    }
   ],
   "source": [
    "to_drop = ['INDICATOR','SUBJECT','MEASURE','FREQUENCY','Flag Codes']\n",
    "df_etot.drop(to_drop, inplace=True, axis=1)\n",
    "print(df_etot.head())"
   ]
  },
  {
   "cell_type": "markdown",
   "id": "assured-battlefield",
   "metadata": {},
   "source": [
    "### Q. 2.2.\n",
    "\n",
    "Read the csv file `EU_electricity_nuclear.csv` into a dataframe `df_enuc`, print the shape and show the head.\n",
    "* This file comprises data about electricity generation in the european union countries from 2000 to 2020.\n",
    "* This is a yearly amount of electricity generated from nuclear power plants measured by GWH: Gigawatt-hours.\n",
    "\n",
    "This dataset was downloaded from the website of the Organisation for Economic Co-operation and Development (OECD): https://data.oecd.org/energy.htm"
   ]
  },
  {
   "cell_type": "markdown",
   "id": "dff64426",
   "metadata": {},
   "source": [
    "Similarly to the previous question, drop useless columns, and keep the three informative ones."
   ]
  },
  {
   "cell_type": "code",
   "execution_count": 49,
   "id": "98eee944",
   "metadata": {},
   "outputs": [
    {
     "name": "stdout",
     "output_type": "stream",
     "text": [
      "(567, 8)\n"
     ]
    },
    {
     "data": {
      "text/html": [
       "<div>\n",
       "<style scoped>\n",
       "    .dataframe tbody tr th:only-of-type {\n",
       "        vertical-align: middle;\n",
       "    }\n",
       "\n",
       "    .dataframe tbody tr th {\n",
       "        vertical-align: top;\n",
       "    }\n",
       "\n",
       "    .dataframe thead th {\n",
       "        text-align: right;\n",
       "    }\n",
       "</style>\n",
       "<table border=\"1\" class=\"dataframe\">\n",
       "  <thead>\n",
       "    <tr style=\"text-align: right;\">\n",
       "      <th></th>\n",
       "      <th>LOCATION</th>\n",
       "      <th>INDICATOR</th>\n",
       "      <th>SUBJECT</th>\n",
       "      <th>MEASURE</th>\n",
       "      <th>FREQUENCY</th>\n",
       "      <th>TIME</th>\n",
       "      <th>Value</th>\n",
       "      <th>Flag Codes</th>\n",
       "    </tr>\n",
       "  </thead>\n",
       "  <tbody>\n",
       "    <tr>\n",
       "      <th>0</th>\n",
       "      <td>AUT</td>\n",
       "      <td>ELECTRICITY</td>\n",
       "      <td>NUCLEAR</td>\n",
       "      <td>GWH</td>\n",
       "      <td>A</td>\n",
       "      <td>2000</td>\n",
       "      <td>0.0</td>\n",
       "      <td>NaN</td>\n",
       "    </tr>\n",
       "    <tr>\n",
       "      <th>1</th>\n",
       "      <td>AUT</td>\n",
       "      <td>ELECTRICITY</td>\n",
       "      <td>NUCLEAR</td>\n",
       "      <td>GWH</td>\n",
       "      <td>A</td>\n",
       "      <td>2001</td>\n",
       "      <td>0.0</td>\n",
       "      <td>NaN</td>\n",
       "    </tr>\n",
       "    <tr>\n",
       "      <th>2</th>\n",
       "      <td>AUT</td>\n",
       "      <td>ELECTRICITY</td>\n",
       "      <td>NUCLEAR</td>\n",
       "      <td>GWH</td>\n",
       "      <td>A</td>\n",
       "      <td>2002</td>\n",
       "      <td>0.0</td>\n",
       "      <td>NaN</td>\n",
       "    </tr>\n",
       "    <tr>\n",
       "      <th>3</th>\n",
       "      <td>AUT</td>\n",
       "      <td>ELECTRICITY</td>\n",
       "      <td>NUCLEAR</td>\n",
       "      <td>GWH</td>\n",
       "      <td>A</td>\n",
       "      <td>2003</td>\n",
       "      <td>0.0</td>\n",
       "      <td>NaN</td>\n",
       "    </tr>\n",
       "    <tr>\n",
       "      <th>4</th>\n",
       "      <td>AUT</td>\n",
       "      <td>ELECTRICITY</td>\n",
       "      <td>NUCLEAR</td>\n",
       "      <td>GWH</td>\n",
       "      <td>A</td>\n",
       "      <td>2004</td>\n",
       "      <td>0.0</td>\n",
       "      <td>NaN</td>\n",
       "    </tr>\n",
       "  </tbody>\n",
       "</table>\n",
       "</div>"
      ],
      "text/plain": [
       "  LOCATION    INDICATOR  SUBJECT MEASURE FREQUENCY  TIME  Value Flag Codes\n",
       "0      AUT  ELECTRICITY  NUCLEAR     GWH         A  2000    0.0        NaN\n",
       "1      AUT  ELECTRICITY  NUCLEAR     GWH         A  2001    0.0        NaN\n",
       "2      AUT  ELECTRICITY  NUCLEAR     GWH         A  2002    0.0        NaN\n",
       "3      AUT  ELECTRICITY  NUCLEAR     GWH         A  2003    0.0        NaN\n",
       "4      AUT  ELECTRICITY  NUCLEAR     GWH         A  2004    0.0        NaN"
      ]
     },
     "execution_count": 49,
     "metadata": {},
     "output_type": "execute_result"
    }
   ],
   "source": [
    "df_enuc=pd.read_csv('EU_electricity_nuclear.csv')\n",
    "print(df_enuc.shape)\n",
    "df_enuc.head()"
   ]
  },
  {
   "cell_type": "code",
   "execution_count": 50,
   "id": "unable-morgan",
   "metadata": {},
   "outputs": [
    {
     "name": "stdout",
     "output_type": "stream",
     "text": [
      "  LOCATION  TIME  Value\n",
      "0      AUT  2000    0.0\n",
      "1      AUT  2001    0.0\n",
      "2      AUT  2002    0.0\n",
      "3      AUT  2003    0.0\n",
      "4      AUT  2004    0.0\n"
     ]
    }
   ],
   "source": [
    "to_drop = ['INDICATOR','SUBJECT','MEASURE','FREQUENCY','Flag Codes']\n",
    "df_enuc.drop(to_drop, inplace=True, axis=1)\n",
    "print(df_enuc.head())"
   ]
  },
  {
   "cell_type": "markdown",
   "id": "b9a534b1",
   "metadata": {},
   "source": [
    "We want to know which countries do use nuclear plants to generate electricity, and which countries do not.\n",
    "\n",
    "To do so, we group by country, and find the sum of values."
   ]
  },
  {
   "cell_type": "code",
   "execution_count": 51,
   "id": "03c4d01e",
   "metadata": {},
   "outputs": [
    {
     "data": {
      "text/html": [
       "<div>\n",
       "<style scoped>\n",
       "    .dataframe tbody tr th:only-of-type {\n",
       "        vertical-align: middle;\n",
       "    }\n",
       "\n",
       "    .dataframe tbody tr th {\n",
       "        vertical-align: top;\n",
       "    }\n",
       "\n",
       "    .dataframe thead th {\n",
       "        text-align: right;\n",
       "    }\n",
       "</style>\n",
       "<table border=\"1\" class=\"dataframe\">\n",
       "  <thead>\n",
       "    <tr style=\"text-align: right;\">\n",
       "      <th></th>\n",
       "      <th>LOCATION</th>\n",
       "      <th>TIME</th>\n",
       "      <th>Value</th>\n",
       "    </tr>\n",
       "  </thead>\n",
       "  <tbody>\n",
       "    <tr>\n",
       "      <th>0</th>\n",
       "      <td>FRA</td>\n",
       "      <td>42210</td>\n",
       "      <td>8152768.282</td>\n",
       "    </tr>\n",
       "    <tr>\n",
       "      <th>1</th>\n",
       "      <td>DEU</td>\n",
       "      <td>42210</td>\n",
       "      <td>2404231.000</td>\n",
       "    </tr>\n",
       "    <tr>\n",
       "      <th>2</th>\n",
       "      <td>SWE</td>\n",
       "      <td>42210</td>\n",
       "      <td>1248975.000</td>\n",
       "    </tr>\n",
       "    <tr>\n",
       "      <th>3</th>\n",
       "      <td>ESP</td>\n",
       "      <td>42210</td>\n",
       "      <td>1132842.000</td>\n",
       "    </tr>\n",
       "    <tr>\n",
       "      <th>4</th>\n",
       "      <td>BEL</td>\n",
       "      <td>42210</td>\n",
       "      <td>825864.400</td>\n",
       "    </tr>\n",
       "    <tr>\n",
       "      <th>5</th>\n",
       "      <td>CZE</td>\n",
       "      <td>42210</td>\n",
       "      <td>487173.490</td>\n",
       "    </tr>\n",
       "    <tr>\n",
       "      <th>6</th>\n",
       "      <td>FIN</td>\n",
       "      <td>42210</td>\n",
       "      <td>442493.000</td>\n",
       "    </tr>\n",
       "    <tr>\n",
       "      <th>7</th>\n",
       "      <td>BGR</td>\n",
       "      <td>42210</td>\n",
       "      <td>311304.018</td>\n",
       "    </tr>\n",
       "    <tr>\n",
       "      <th>8</th>\n",
       "      <td>SVK</td>\n",
       "      <td>42210</td>\n",
       "      <td>294383.000</td>\n",
       "    </tr>\n",
       "    <tr>\n",
       "      <th>9</th>\n",
       "      <td>HUN</td>\n",
       "      <td>42210</td>\n",
       "      <td>277500.000</td>\n",
       "    </tr>\n",
       "    <tr>\n",
       "      <th>10</th>\n",
       "      <td>ROU</td>\n",
       "      <td>42210</td>\n",
       "      <td>168053.005</td>\n",
       "    </tr>\n",
       "    <tr>\n",
       "      <th>11</th>\n",
       "      <td>SVN</td>\n",
       "      <td>42210</td>\n",
       "      <td>108249.716</td>\n",
       "    </tr>\n",
       "    <tr>\n",
       "      <th>12</th>\n",
       "      <td>LTU</td>\n",
       "      <td>42210</td>\n",
       "      <td>104448.000</td>\n",
       "    </tr>\n",
       "    <tr>\n",
       "      <th>13</th>\n",
       "      <td>NLD</td>\n",
       "      <td>42210</td>\n",
       "      <td>73466.459</td>\n",
       "    </tr>\n",
       "    <tr>\n",
       "      <th>14</th>\n",
       "      <td>EST</td>\n",
       "      <td>42210</td>\n",
       "      <td>0.000</td>\n",
       "    </tr>\n",
       "    <tr>\n",
       "      <th>15</th>\n",
       "      <td>MLT</td>\n",
       "      <td>42210</td>\n",
       "      <td>0.000</td>\n",
       "    </tr>\n",
       "    <tr>\n",
       "      <th>16</th>\n",
       "      <td>CYP</td>\n",
       "      <td>42210</td>\n",
       "      <td>0.000</td>\n",
       "    </tr>\n",
       "    <tr>\n",
       "      <th>17</th>\n",
       "      <td>PRT</td>\n",
       "      <td>42210</td>\n",
       "      <td>0.000</td>\n",
       "    </tr>\n",
       "    <tr>\n",
       "      <th>18</th>\n",
       "      <td>POL</td>\n",
       "      <td>42210</td>\n",
       "      <td>0.000</td>\n",
       "    </tr>\n",
       "    <tr>\n",
       "      <th>19</th>\n",
       "      <td>LVA</td>\n",
       "      <td>42210</td>\n",
       "      <td>0.000</td>\n",
       "    </tr>\n",
       "    <tr>\n",
       "      <th>20</th>\n",
       "      <td>GRC</td>\n",
       "      <td>42210</td>\n",
       "      <td>0.000</td>\n",
       "    </tr>\n",
       "    <tr>\n",
       "      <th>21</th>\n",
       "      <td>LUX</td>\n",
       "      <td>42210</td>\n",
       "      <td>0.000</td>\n",
       "    </tr>\n",
       "    <tr>\n",
       "      <th>22</th>\n",
       "      <td>ITA</td>\n",
       "      <td>42210</td>\n",
       "      <td>0.000</td>\n",
       "    </tr>\n",
       "    <tr>\n",
       "      <th>23</th>\n",
       "      <td>IRL</td>\n",
       "      <td>42210</td>\n",
       "      <td>0.000</td>\n",
       "    </tr>\n",
       "    <tr>\n",
       "      <th>24</th>\n",
       "      <td>DNK</td>\n",
       "      <td>42210</td>\n",
       "      <td>0.000</td>\n",
       "    </tr>\n",
       "    <tr>\n",
       "      <th>25</th>\n",
       "      <td>HRV</td>\n",
       "      <td>42210</td>\n",
       "      <td>0.000</td>\n",
       "    </tr>\n",
       "    <tr>\n",
       "      <th>26</th>\n",
       "      <td>AUT</td>\n",
       "      <td>42210</td>\n",
       "      <td>0.000</td>\n",
       "    </tr>\n",
       "  </tbody>\n",
       "</table>\n",
       "</div>"
      ],
      "text/plain": [
       "   LOCATION   TIME        Value\n",
       "0       FRA  42210  8152768.282\n",
       "1       DEU  42210  2404231.000\n",
       "2       SWE  42210  1248975.000\n",
       "3       ESP  42210  1132842.000\n",
       "4       BEL  42210   825864.400\n",
       "5       CZE  42210   487173.490\n",
       "6       FIN  42210   442493.000\n",
       "7       BGR  42210   311304.018\n",
       "8       SVK  42210   294383.000\n",
       "9       HUN  42210   277500.000\n",
       "10      ROU  42210   168053.005\n",
       "11      SVN  42210   108249.716\n",
       "12      LTU  42210   104448.000\n",
       "13      NLD  42210    73466.459\n",
       "14      EST  42210        0.000\n",
       "15      MLT  42210        0.000\n",
       "16      CYP  42210        0.000\n",
       "17      PRT  42210        0.000\n",
       "18      POL  42210        0.000\n",
       "19      LVA  42210        0.000\n",
       "20      GRC  42210        0.000\n",
       "21      LUX  42210        0.000\n",
       "22      ITA  42210        0.000\n",
       "23      IRL  42210        0.000\n",
       "24      DNK  42210        0.000\n",
       "25      HRV  42210        0.000\n",
       "26      AUT  42210        0.000"
      ]
     },
     "execution_count": 51,
     "metadata": {},
     "output_type": "execute_result"
    }
   ],
   "source": [
    "nuclear_sum=df_enuc.groupby('LOCATION').sum().sort_values(by='Value',ascending=False).reset_index()\n",
    "nuclear_sum"
   ]
  },
  {
   "cell_type": "markdown",
   "id": "1e0e0b47",
   "metadata": {},
   "source": [
    "If the sum is 0, then it is not a nuclear country, otherwise, if the sum > 0, then it is a nuclear country.\n",
    "\n",
    "Make a list of nuclear countries, called `nuclear`, and a list of non-nuclear countries, called `non_nuclear`:"
   ]
  },
  {
   "cell_type": "code",
   "execution_count": 52,
   "id": "b7cb3964",
   "metadata": {},
   "outputs": [],
   "source": [
    "nuclear =nuclear_sum[nuclear_sum['Value']>0]['LOCATION'].unique().tolist()\n",
    "\n",
    "non_nuclear =nuclear_sum[nuclear_sum['Value']==0]['LOCATION'].unique().tolist()"
   ]
  },
  {
   "cell_type": "code",
   "execution_count": 53,
   "id": "9d621959",
   "metadata": {},
   "outputs": [
    {
     "name": "stdout",
     "output_type": "stream",
     "text": [
      "Nuclear countries: ['FRA', 'DEU', 'SWE', 'ESP', 'BEL', 'CZE', 'FIN', 'BGR', 'SVK', 'HUN', 'ROU', 'SVN', 'LTU', 'NLD']\n",
      "Non-nuclear countries: ['EST', 'MLT', 'CYP', 'PRT', 'POL', 'LVA', 'GRC', 'LUX', 'ITA', 'IRL', 'DNK', 'HRV', 'AUT']\n"
     ]
    }
   ],
   "source": [
    "print('Nuclear countries:', nuclear)\n",
    "print('Non-nuclear countries:', non_nuclear)"
   ]
  },
  {
   "cell_type": "markdown",
   "id": "posted-miracle",
   "metadata": {},
   "source": [
    "### Q. 2.3.\n",
    "\n",
    "Now, we want to join the previous two dataframes `df_etot` and `df_enuc`, to have the total electricity and nuclear electricity, side by side, for each country and year.\n",
    "* Rename the columns properly, e.g., `elec_total` and `elec_nuclear`"
   ]
  },
  {
   "cell_type": "code",
   "execution_count": 18,
   "id": "pleasant-party",
   "metadata": {},
   "outputs": [],
   "source": [
    "df_total=df_etot.merge(df_enuc, on=['LOCATION','TIME'])"
   ]
  },
  {
   "cell_type": "code",
   "execution_count": 19,
   "id": "german-warrior",
   "metadata": {},
   "outputs": [],
   "source": [
    "df_total=df_total.rename(columns={'Value_x':'elec_total', 'Value_y':'elec_nuclear'})"
   ]
  },
  {
   "cell_type": "code",
   "execution_count": 54,
   "id": "176a74b8",
   "metadata": {},
   "outputs": [],
   "source": [
    "df_total=df_total.drop(np.where(df_total['TIME'] == 2020)[0])\n",
    "#delete 2020 with NaN values"
   ]
  },
  {
   "cell_type": "code",
   "execution_count": 55,
   "id": "9d19d8e7",
   "metadata": {},
   "outputs": [
    {
     "data": {
      "text/plain": [
       "(540, 5)"
      ]
     },
     "execution_count": 55,
     "metadata": {},
     "output_type": "execute_result"
    }
   ],
   "source": [
    "df_total.shape"
   ]
  },
  {
   "cell_type": "markdown",
   "id": "9f713f81",
   "metadata": {},
   "source": [
    "Create a new column, call it `nuc_perc`, as the percentage of electricity generated from nuclear plants to total electricity."
   ]
  },
  {
   "cell_type": "code",
   "execution_count": 56,
   "id": "adequate-vinyl",
   "metadata": {},
   "outputs": [],
   "source": [
    "df_total['nuc_perc']=round((df_total['elec_nuclear']*100)/df_total['elec_total'],2)"
   ]
  },
  {
   "cell_type": "code",
   "execution_count": 57,
   "id": "37998554",
   "metadata": {},
   "outputs": [
    {
     "data": {
      "text/plain": [
       "0       0.00\n",
       "1       0.00\n",
       "2       0.00\n",
       "3       0.00\n",
       "4       0.00\n",
       "       ...  \n",
       "561    17.46\n",
       "562    17.20\n",
       "563    17.79\n",
       "564    17.35\n",
       "565    18.75\n",
       "Name: nuc_perc, Length: 540, dtype: float64"
      ]
     },
     "execution_count": 57,
     "metadata": {},
     "output_type": "execute_result"
    }
   ],
   "source": [
    "df_total['nuc_perc']"
   ]
  },
  {
   "cell_type": "markdown",
   "id": "12c3ca34",
   "metadata": {},
   "source": [
    "We want to see how this percentage changes for Germany over the years.\n",
    "Select a suitable subset for this purpose, call it: `df_de`"
   ]
  },
  {
   "cell_type": "code",
   "execution_count": 59,
   "id": "modern-burton",
   "metadata": {},
   "outputs": [
    {
     "data": {
      "text/html": [
       "<div>\n",
       "<style scoped>\n",
       "    .dataframe tbody tr th:only-of-type {\n",
       "        vertical-align: middle;\n",
       "    }\n",
       "\n",
       "    .dataframe tbody tr th {\n",
       "        vertical-align: top;\n",
       "    }\n",
       "\n",
       "    .dataframe thead th {\n",
       "        text-align: right;\n",
       "    }\n",
       "</style>\n",
       "<table border=\"1\" class=\"dataframe\">\n",
       "  <thead>\n",
       "    <tr style=\"text-align: right;\">\n",
       "      <th></th>\n",
       "      <th>nuc_perc</th>\n",
       "      <th>TIME</th>\n",
       "    </tr>\n",
       "  </thead>\n",
       "  <tbody>\n",
       "    <tr>\n",
       "      <th>126</th>\n",
       "      <td>29.84</td>\n",
       "      <td>2000</td>\n",
       "    </tr>\n",
       "    <tr>\n",
       "      <th>127</th>\n",
       "      <td>29.61</td>\n",
       "      <td>2001</td>\n",
       "    </tr>\n",
       "    <tr>\n",
       "      <th>128</th>\n",
       "      <td>28.45</td>\n",
       "      <td>2002</td>\n",
       "    </tr>\n",
       "    <tr>\n",
       "      <th>129</th>\n",
       "      <td>27.46</td>\n",
       "      <td>2003</td>\n",
       "    </tr>\n",
       "    <tr>\n",
       "      <th>130</th>\n",
       "      <td>27.37</td>\n",
       "      <td>2004</td>\n",
       "    </tr>\n",
       "    <tr>\n",
       "      <th>131</th>\n",
       "      <td>26.53</td>\n",
       "      <td>2005</td>\n",
       "    </tr>\n",
       "    <tr>\n",
       "      <th>132</th>\n",
       "      <td>26.50</td>\n",
       "      <td>2006</td>\n",
       "    </tr>\n",
       "    <tr>\n",
       "      <th>133</th>\n",
       "      <td>22.18</td>\n",
       "      <td>2007</td>\n",
       "    </tr>\n",
       "    <tr>\n",
       "      <th>134</th>\n",
       "      <td>23.41</td>\n",
       "      <td>2008</td>\n",
       "    </tr>\n",
       "    <tr>\n",
       "      <th>135</th>\n",
       "      <td>22.85</td>\n",
       "      <td>2009</td>\n",
       "    </tr>\n",
       "    <tr>\n",
       "      <th>136</th>\n",
       "      <td>22.37</td>\n",
       "      <td>2010</td>\n",
       "    </tr>\n",
       "    <tr>\n",
       "      <th>137</th>\n",
       "      <td>17.74</td>\n",
       "      <td>2011</td>\n",
       "    </tr>\n",
       "    <tr>\n",
       "      <th>138</th>\n",
       "      <td>15.92</td>\n",
       "      <td>2012</td>\n",
       "    </tr>\n",
       "    <tr>\n",
       "      <th>139</th>\n",
       "      <td>15.33</td>\n",
       "      <td>2013</td>\n",
       "    </tr>\n",
       "    <tr>\n",
       "      <th>140</th>\n",
       "      <td>15.54</td>\n",
       "      <td>2014</td>\n",
       "    </tr>\n",
       "    <tr>\n",
       "      <th>141</th>\n",
       "      <td>14.22</td>\n",
       "      <td>2015</td>\n",
       "    </tr>\n",
       "    <tr>\n",
       "      <th>142</th>\n",
       "      <td>13.03</td>\n",
       "      <td>2016</td>\n",
       "    </tr>\n",
       "    <tr>\n",
       "      <th>143</th>\n",
       "      <td>11.66</td>\n",
       "      <td>2017</td>\n",
       "    </tr>\n",
       "    <tr>\n",
       "      <th>144</th>\n",
       "      <td>11.80</td>\n",
       "      <td>2018</td>\n",
       "    </tr>\n",
       "    <tr>\n",
       "      <th>145</th>\n",
       "      <td>12.26</td>\n",
       "      <td>2019</td>\n",
       "    </tr>\n",
       "  </tbody>\n",
       "</table>\n",
       "</div>"
      ],
      "text/plain": [
       "     nuc_perc  TIME\n",
       "126     29.84  2000\n",
       "127     29.61  2001\n",
       "128     28.45  2002\n",
       "129     27.46  2003\n",
       "130     27.37  2004\n",
       "131     26.53  2005\n",
       "132     26.50  2006\n",
       "133     22.18  2007\n",
       "134     23.41  2008\n",
       "135     22.85  2009\n",
       "136     22.37  2010\n",
       "137     17.74  2011\n",
       "138     15.92  2012\n",
       "139     15.33  2013\n",
       "140     15.54  2014\n",
       "141     14.22  2015\n",
       "142     13.03  2016\n",
       "143     11.66  2017\n",
       "144     11.80  2018\n",
       "145     12.26  2019"
      ]
     },
     "execution_count": 59,
     "metadata": {},
     "output_type": "execute_result"
    }
   ],
   "source": [
    "df_de=df_total[df_total['LOCATION']=='DEU'][['nuc_perc','TIME']]\n",
    "df_de"
   ]
  },
  {
   "cell_type": "code",
   "execution_count": 60,
   "id": "liable-calculation",
   "metadata": {},
   "outputs": [],
   "source": [
    "import matplotlib.pyplot as plt"
   ]
  },
  {
   "cell_type": "code",
   "execution_count": 61,
   "id": "5b6ce671",
   "metadata": {},
   "outputs": [
    {
     "data": {
      "text/plain": [
       "Text(0, 0.5, 'Percentage of Nuclear Electricity')"
      ]
     },
     "execution_count": 61,
     "metadata": {},
     "output_type": "execute_result"
    },
    {
     "data": {
      "image/png": "[encoded data removed]",
      "text/plain": [
       "<Figure size 432x288 with 1 Axes>"
      ]
     },
     "metadata": {
      "needs_background": "light"
     },
     "output_type": "display_data"
    }
   ],
   "source": [
    "plt.plot(df_de['TIME'], df_de['nuc_perc'])\n",
    "plt.xticks(np.arange(2000,2020,2));\n",
    "Y = np.arange(0,31,5)\n",
    "plt.yticks(Y, labels=[str(y)+'%' for y in Y]);\n",
    "plt.xlabel('Year', fontsize=14)\n",
    "plt.ylabel('Percentage of Nuclear Electricity', fontsize=12)"
   ]
  },
  {
   "cell_type": "markdown",
   "id": "a1adca8c",
   "metadata": {},
   "source": [
    "Q. 2.3.\n",
    "Now, we want to join the previous two dataframes df_etot and df_enuc, to have the total electricity and nuclear electricity, side by side, for each country and year\n",
    "\n",
    "Rename the columns properly, e.g., elec_total and elec_nuclear"
   ]
  },
  {
   "cell_type": "code",
   "execution_count": 62,
   "id": "dd54a87b",
   "metadata": {},
   "outputs": [
    {
     "data": {
      "text/html": [
       "<div>\n",
       "<style scoped>\n",
       "    .dataframe tbody tr th:only-of-type {\n",
       "        vertical-align: middle;\n",
       "    }\n",
       "\n",
       "    .dataframe tbody tr th {\n",
       "        vertical-align: top;\n",
       "    }\n",
       "\n",
       "    .dataframe thead th {\n",
       "        text-align: right;\n",
       "    }\n",
       "</style>\n",
       "<table border=\"1\" class=\"dataframe\">\n",
       "  <thead>\n",
       "    <tr style=\"text-align: right;\">\n",
       "      <th></th>\n",
       "      <th>LOCATION</th>\n",
       "      <th>TIME</th>\n",
       "      <th>elec_total</th>\n",
       "      <th>elec_nuclear</th>\n",
       "      <th>nuc_perc</th>\n",
       "      <th>Value</th>\n",
       "    </tr>\n",
       "  </thead>\n",
       "  <tbody>\n",
       "    <tr>\n",
       "      <th>0</th>\n",
       "      <td>AUT</td>\n",
       "      <td>2000</td>\n",
       "      <td>59054.0</td>\n",
       "      <td>0.0</td>\n",
       "      <td>0.0</td>\n",
       "      <td>6573.7169</td>\n",
       "    </tr>\n",
       "    <tr>\n",
       "      <th>1</th>\n",
       "      <td>AUT</td>\n",
       "      <td>2001</td>\n",
       "      <td>60111.0</td>\n",
       "      <td>0.0</td>\n",
       "      <td>0.0</td>\n",
       "      <td>6659.1852</td>\n",
       "    </tr>\n",
       "    <tr>\n",
       "      <th>2</th>\n",
       "      <td>AUT</td>\n",
       "      <td>2002</td>\n",
       "      <td>59937.0</td>\n",
       "      <td>0.0</td>\n",
       "      <td>0.0</td>\n",
       "      <td>6482.1603</td>\n",
       "    </tr>\n",
       "    <tr>\n",
       "      <th>3</th>\n",
       "      <td>AUT</td>\n",
       "      <td>2003</td>\n",
       "      <td>57413.0</td>\n",
       "      <td>0.0</td>\n",
       "      <td>0.0</td>\n",
       "      <td>6017.1032</td>\n",
       "    </tr>\n",
       "    <tr>\n",
       "      <th>4</th>\n",
       "      <td>AUT</td>\n",
       "      <td>2004</td>\n",
       "      <td>61387.0</td>\n",
       "      <td>0.0</td>\n",
       "      <td>0.0</td>\n",
       "      <td>6418.0545</td>\n",
       "    </tr>\n",
       "  </tbody>\n",
       "</table>\n",
       "</div>"
      ],
      "text/plain": [
       "  LOCATION  TIME  elec_total  elec_nuclear  nuc_perc      Value\n",
       "0      AUT  2000     59054.0           0.0       0.0  6573.7169\n",
       "1      AUT  2001     60111.0           0.0       0.0  6659.1852\n",
       "2      AUT  2002     59937.0           0.0       0.0  6482.1603\n",
       "3      AUT  2003     57413.0           0.0       0.0  6017.1032\n",
       "4      AUT  2004     61387.0           0.0       0.0  6418.0545"
      ]
     },
     "execution_count": 62,
     "metadata": {},
     "output_type": "execute_result"
    }
   ],
   "source": [
    "df_total1=df_total.merge(df_re, on=['LOCATION','TIME'])\n",
    "df_total1.head()"
   ]
  },
  {
   "cell_type": "markdown",
   "id": "e4168159",
   "metadata": {},
   "source": [
    "Rename the column `Value` to `renew_energy`"
   ]
  },
  {
   "cell_type": "code",
   "execution_count": 63,
   "id": "7b075abb",
   "metadata": {},
   "outputs": [],
   "source": [
    "df_total1=df_total1.rename(columns={ 'Value':'renew_energy'})"
   ]
  },
  {
   "cell_type": "markdown",
   "id": "2fd25a9e",
   "metadata": {},
   "source": [
    "Now, select a subset of the result for Germany:"
   ]
  },
  {
   "cell_type": "markdown",
   "id": "453ebc0d",
   "metadata": {},
   "source": [
    "The follwing code will show how the `percentage of nuclear electricity` and `renewable energy` change over time, and the correlation between them.\n",
    "\n",
    "This demonstrates how Germany, in the last decades, reduced its dependency on nuclear energy in favor of renewable resources :)"
   ]
  },
  {
   "cell_type": "code",
   "execution_count": 64,
   "id": "2f137cef",
   "metadata": {},
   "outputs": [],
   "source": [
    "df_total1['renew_perc']=round((df_total1['renew_energy']*100/df_total1['elec_total']),2)"
   ]
  },
  {
   "cell_type": "code",
   "execution_count": 81,
   "id": "79c1e17c",
   "metadata": {},
   "outputs": [],
   "source": [
    "df_de2=df_total1[df_total1['LOCATION']=='DEU'][['renew_perc','TIME']]\n"
   ]
  },
  {
   "cell_type": "code",
   "execution_count": 66,
   "id": "c6ded6b6",
   "metadata": {},
   "outputs": [
    {
     "data": {
      "text/plain": [
       "Text(0, 0.5, 'Percentage of Renew Energy')"
      ]
     },
     "execution_count": 66,
     "metadata": {},
     "output_type": "execute_result"
    },
    {
     "data": {
      "image/png": "[encoded data removed]",
      "text/plain": [
       "<Figure size 432x288 with 1 Axes>"
      ]
     },
     "metadata": {
      "needs_background": "light"
     },
     "output_type": "display_data"
    }
   ],
   "source": [
    "plt.plot(df_de2['TIME'], df_de2['renew_perc'])\n",
    "plt.xticks(np.arange(2000,2020,2));\n",
    "Y = np.arange(0,31,5)\n",
    "plt.yticks(Y, labels=[str(y)+'%' for y in Y]);\n",
    "plt.xlabel('Year', fontsize=14)\n",
    "plt.ylabel('Percentage of Renew Energy', fontsize=12)"
   ]
  },
  {
   "cell_type": "code",
   "execution_count": 80,
   "id": "0b13b8f3",
   "metadata": {},
   "outputs": [
    {
     "data": {
      "text/plain": [
       "Text(0, 0.5, 'Percentage of Renewable Energy (KTOE)')"
      ]
     },
     "execution_count": 80,
     "metadata": {},
     "output_type": "execute_result"
    },
    {
     "data": {
      "image/png": "[encoded data removed]",
      "text/plain": [
       "<Figure size 576x576 with 2 Axes>"
      ]
     },
     "metadata": {
      "needs_background": "light"
     },
     "output_type": "display_data"
    }
   ],
   "source": [
    "fig, (ax1,ax2) = plt.subplots(2, 1, figsize=(8,8))\n",
    "\n",
    "ax1.plot(df_de['TIME'], df_de['nuc_perc'])\n",
    "ax1.set_xticks(np.arange(2000,2020,2));\n",
    "Y = np.arange(0,31,5)\n",
    "plt.yticks(Y, labels=[str(y)+'%' for y in Y]);\n",
    "ax1.set_xlabel('Year', fontsize=14)\n",
    "ax1.set_ylabel('Percentage of Nuclear Electricity', fontsize=12)\n",
    "\n",
    "ax2.plot(df_de2['TIME'], df_de2['renew_perc'])\n",
    "ax2.set_xticks(np.arange(2000,2020,2));\n",
    "plt.yticks(Y, labels=[str(y)+'%' for y in Y]);\n",
    "ax2.set_xlabel('Year', fontsize=14)\n",
    "ax2.set_ylabel('Percentage of Renewable Energy (KTOE)', fontsize=12)"
   ]
  },
  {
   "cell_type": "code",
   "execution_count": 76,
   "id": "cb6851dd",
   "metadata": {},
   "outputs": [
    {
     "data": {
      "text/html": [
       "<div>\n",
       "<style scoped>\n",
       "    .dataframe tbody tr th:only-of-type {\n",
       "        vertical-align: middle;\n",
       "    }\n",
       "\n",
       "    .dataframe tbody tr th {\n",
       "        vertical-align: top;\n",
       "    }\n",
       "\n",
       "    .dataframe thead th {\n",
       "        text-align: right;\n",
       "    }\n",
       "</style>\n",
       "<table border=\"1\" class=\"dataframe\">\n",
       "  <thead>\n",
       "    <tr style=\"text-align: right;\">\n",
       "      <th></th>\n",
       "      <th>nuc_perc</th>\n",
       "      <th>TIME</th>\n",
       "      <th>renew_perc</th>\n",
       "    </tr>\n",
       "  </thead>\n",
       "  <tbody>\n",
       "    <tr>\n",
       "      <th>0</th>\n",
       "      <td>29.84</td>\n",
       "      <td>2000</td>\n",
       "      <td>1.67</td>\n",
       "    </tr>\n",
       "    <tr>\n",
       "      <th>1</th>\n",
       "      <td>29.61</td>\n",
       "      <td>2001</td>\n",
       "      <td>1.76</td>\n",
       "    </tr>\n",
       "    <tr>\n",
       "      <th>2</th>\n",
       "      <td>28.45</td>\n",
       "      <td>2002</td>\n",
       "      <td>1.96</td>\n",
       "    </tr>\n",
       "    <tr>\n",
       "      <th>3</th>\n",
       "      <td>27.46</td>\n",
       "      <td>2003</td>\n",
       "      <td>2.42</td>\n",
       "    </tr>\n",
       "    <tr>\n",
       "      <th>4</th>\n",
       "      <td>27.37</td>\n",
       "      <td>2004</td>\n",
       "      <td>2.77</td>\n",
       "    </tr>\n",
       "    <tr>\n",
       "      <th>5</th>\n",
       "      <td>26.53</td>\n",
       "      <td>2005</td>\n",
       "      <td>3.18</td>\n",
       "    </tr>\n",
       "    <tr>\n",
       "      <th>6</th>\n",
       "      <td>26.50</td>\n",
       "      <td>2006</td>\n",
       "      <td>3.78</td>\n",
       "    </tr>\n",
       "    <tr>\n",
       "      <th>7</th>\n",
       "      <td>22.18</td>\n",
       "      <td>2007</td>\n",
       "      <td>4.36</td>\n",
       "    </tr>\n",
       "    <tr>\n",
       "      <th>8</th>\n",
       "      <td>23.41</td>\n",
       "      <td>2008</td>\n",
       "      <td>4.53</td>\n",
       "    </tr>\n",
       "    <tr>\n",
       "      <th>9</th>\n",
       "      <td>22.85</td>\n",
       "      <td>2009</td>\n",
       "      <td>4.85</td>\n",
       "    </tr>\n",
       "    <tr>\n",
       "      <th>10</th>\n",
       "      <td>22.37</td>\n",
       "      <td>2010</td>\n",
       "      <td>5.17</td>\n",
       "    </tr>\n",
       "    <tr>\n",
       "      <th>11</th>\n",
       "      <td>17.74</td>\n",
       "      <td>2011</td>\n",
       "      <td>5.53</td>\n",
       "    </tr>\n",
       "    <tr>\n",
       "      <th>12</th>\n",
       "      <td>15.92</td>\n",
       "      <td>2012</td>\n",
       "      <td>6.05</td>\n",
       "    </tr>\n",
       "    <tr>\n",
       "      <th>13</th>\n",
       "      <td>15.33</td>\n",
       "      <td>2013</td>\n",
       "      <td>6.14</td>\n",
       "    </tr>\n",
       "    <tr>\n",
       "      <th>14</th>\n",
       "      <td>15.54</td>\n",
       "      <td>2014</td>\n",
       "      <td>6.20</td>\n",
       "    </tr>\n",
       "    <tr>\n",
       "      <th>15</th>\n",
       "      <td>14.22</td>\n",
       "      <td>2015</td>\n",
       "      <td>6.39</td>\n",
       "    </tr>\n",
       "    <tr>\n",
       "      <th>16</th>\n",
       "      <td>13.03</td>\n",
       "      <td>2016</td>\n",
       "      <td>6.32</td>\n",
       "    </tr>\n",
       "    <tr>\n",
       "      <th>17</th>\n",
       "      <td>11.66</td>\n",
       "      <td>2017</td>\n",
       "      <td>6.70</td>\n",
       "    </tr>\n",
       "    <tr>\n",
       "      <th>18</th>\n",
       "      <td>11.80</td>\n",
       "      <td>2018</td>\n",
       "      <td>6.88</td>\n",
       "    </tr>\n",
       "    <tr>\n",
       "      <th>19</th>\n",
       "      <td>12.26</td>\n",
       "      <td>2019</td>\n",
       "      <td>7.60</td>\n",
       "    </tr>\n",
       "  </tbody>\n",
       "</table>\n",
       "</div>"
      ],
      "text/plain": [
       "    nuc_perc  TIME  renew_perc\n",
       "0      29.84  2000        1.67\n",
       "1      29.61  2001        1.76\n",
       "2      28.45  2002        1.96\n",
       "3      27.46  2003        2.42\n",
       "4      27.37  2004        2.77\n",
       "5      26.53  2005        3.18\n",
       "6      26.50  2006        3.78\n",
       "7      22.18  2007        4.36\n",
       "8      23.41  2008        4.53\n",
       "9      22.85  2009        4.85\n",
       "10     22.37  2010        5.17\n",
       "11     17.74  2011        5.53\n",
       "12     15.92  2012        6.05\n",
       "13     15.33  2013        6.14\n",
       "14     15.54  2014        6.20\n",
       "15     14.22  2015        6.39\n",
       "16     13.03  2016        6.32\n",
       "17     11.66  2017        6.70\n",
       "18     11.80  2018        6.88\n",
       "19     12.26  2019        7.60"
      ]
     },
     "execution_count": 76,
     "metadata": {},
     "output_type": "execute_result"
    }
   ],
   "source": [
    "df_deu=df_de.merge(df_de2, on=['TIME'])\n",
    "df_deu\n",
    "#merge of two dataset with the values about Percentage of Nuclear Electricity and Percentage of Renewable Energy in Germany "
   ]
  },
  {
   "cell_type": "code",
   "execution_count": 79,
   "id": "7fe0a3be",
   "metadata": {},
   "outputs": [
    {
     "data": {
      "text/plain": [
       "-0.9685541451643509"
      ]
     },
     "execution_count": 79,
     "metadata": {},
     "output_type": "execute_result"
    }
   ],
   "source": [
    "# Correlation of `percentage of nuclear electricity` and `renewable energy`\n",
    "np.corrcoef(df_deu['nuc_perc'], df_deu['renew_perc'])[0,1]\n",
    "# A very strong negative correlation!"
   ]
  }
 ],
 "metadata": {
  "kernelspec": {
   "display_name": "Python 3 (ipykernel)",
   "language": "python",
   "name": "python3"
  },
  "language_info": {
   "codemirror_mode": {
    "name": "ipython",
    "version": 3
   },
   "file_extension": ".py",
   "mimetype": "text/x-python",
   "name": "python",
   "nbconvert_exporter": "python",
   "pygments_lexer": "ipython3",
   "version": "3.9.7"
  }
 },
 "nbformat": 4,
 "nbformat_minor": 5
}
